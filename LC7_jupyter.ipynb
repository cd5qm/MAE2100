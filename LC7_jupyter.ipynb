{
 "cells": [
  {
   "cell_type": "code",
   "execution_count": 1,
   "metadata": {},
   "outputs": [],
   "source": [
    "#%% Load Packages - include at the start of any code\n",
    "\n",
    "import CoolProp.CoolProp as cp   # for thermodynamics state lookups\n",
    "\n",
    "#%% Conversion factors\n",
    "\n",
    "PaPerkPa = 1000"
   ]
  },
  {
   "cell_type": "code",
   "execution_count": 2,
   "metadata": {},
   "outputs": [],
   "source": [
    "#%% Knowns\n",
    "\n",
    "fl = 'water'\n",
    "m = 10 # kg\n",
    "\n",
    "x1 = 0\n",
    "p1 = 300 # kPa\n",
    "\n",
    "T2 = 293 # K\n",
    "p2 = p1\n"
   ]
  },
  {
   "cell_type": "code",
   "execution_count": 3,
   "metadata": {},
   "outputs": [
    {
     "name": "stdout",
     "output_type": "stream",
     "text": [
      "Change in energy, U2-U1 = -4778.39 kJ\n"
     ]
    }
   ],
   "source": [
    "#%% Solution\n",
    "\n",
    "u1 = cp.PropsSI('U', 'P', p1*PaPerkPa, 'Q', x1, fl)/1000 # kJ/kg\n",
    "u2 = cp.PropsSI('U', 'P', p2*PaPerkPa, 'T', T2, fl)/1000 # kJ/kg\n",
    "\n",
    "DelU = m*(u2-u1) # kJ\n",
    "print('Change in energy, U2-U1 = {:.2f} kJ'.format(DelU)) # output to screen"
   ]
  },
  {
   "cell_type": "code",
   "execution_count": null,
   "metadata": {},
   "outputs": [],
   "source": []
  }
 ],
 "metadata": {
  "kernelspec": {
   "display_name": "Python 3",
   "language": "python",
   "name": "python3"
  },
  "language_info": {
   "codemirror_mode": {
    "name": "ipython",
    "version": 3
   },
   "file_extension": ".py",
   "mimetype": "text/x-python",
   "name": "python",
   "nbconvert_exporter": "python",
   "pygments_lexer": "ipython3",
   "version": "3.8.5"
  }
 },
 "nbformat": 4,
 "nbformat_minor": 4
}
